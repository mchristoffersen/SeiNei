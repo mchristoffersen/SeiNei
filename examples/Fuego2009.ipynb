{
 "cells": [
  {
   "cell_type": "markdown",
   "id": "cb8d0c35-8879-4517-b647-6b88c6ba578a",
   "metadata": {},
   "source": [
    "# Reproduction of Published Seismometer-Derived Tilt Results From Volcan de Fuego\n",
    "\n",
    "Lyons, J. J., Waite, G. P., Ichihara, M., and Lees, J. M. (2012), Tilt prior to explosions and the effect of topography on ultra-long-period seismic records at Fuego volcano, Guatemala, Geophys. Res. Lett., 39, L08305, doi:10.1029/2012GL051184.\n",
    "\n",
    "Replicating Figure 2, panels a and b."
   ]
  },
  {
   "cell_type": "markdown",
   "id": "bbb64eed-c77f-40da-92b0-9181e2ed5bc7",
   "metadata": {},
   "source": [
    "## Download seismic data with PySEP\n",
    "\n",
    "PySEP configuration file"
   ]
  },
  {
   "cell_type": "code",
   "execution_count": 42,
   "id": "d897541f-cb46-442b-8bf1-1594996bfe84",
   "metadata": {},
   "outputs": [
    {
     "name": "stdout",
     "output_type": "stream",
     "text": [
      "event_tag: Fuego2009\n",
      "client: IRIS\n",
      "client_debug: false\n",
      "event_selection: default\n",
      "seconds_before_ref: 3600\n",
      "seconds_after_ref: 3600\n",
      "networks: XT\n",
      "stations: F900,F9NE\n",
      "channels: HHE,HHN\n",
      "locations: '*'\n",
      "demean: false\n",
      "detrend: false\n",
      "remove_response: false\n",
      "resample_freq: null\n",
      "remove_clipped: true\n",
      "remove_insufficient_length: true\n",
      "remove_masked_data: true\n",
      "write_files: inv,sac\n",
      "plot_files: null\n",
      "log_level: WARNING\n"
     ]
    }
   ],
   "source": [
    "!cat ./fuego2009_pysep_config.yaml"
   ]
  },
  {
   "cell_type": "markdown",
   "id": "908a3ceb-6a6e-438e-9e13-079e67261541",
   "metadata": {},
   "source": [
    "\n",
    "List of events\n",
    "\n",
    "Format:\n",
    "time longitude latitude depth magnitude\n",
    "\n",
    "The longitude, latitude, depth, and magnitude fields are required by PySEP which was built with earthquakes in mind. Time, longitude, and latitude used by PySEP to name the directories with downloaded data/"
   ]
  },
  {
   "cell_type": "code",
   "execution_count": 43,
   "id": "76ee7f80-9381-4100-9a86-09c0e19226fb",
   "metadata": {},
   "outputs": [
    {
     "name": "stdout",
     "output_type": "stream",
     "text": [
      "2009/01/11T22:40:51.365000 -90.8806 14.4747 0 0\n",
      "2009/01/19T16:09:34.995000 -90.8806 14.4747 0 0\n",
      "2009/01/19T16:09:35.145000 -90.8806 14.4747 0 0\n",
      "2009/01/21T01:53:01.285000 -90.8806 14.4747 0 0\n",
      "2009/01/21T05:21:18.855000 -90.8806 14.4747 0 0\n",
      "2009/01/22T09:22:33.465000 -90.8806 14.4747 0 0\n",
      "2009/01/22T16:24:32.325000 -90.8806 14.4747 0 0\n",
      "2009/01/24T11:56:46.705000 -90.8806 14.4747 0 0\n",
      "2009/01/24T11:56:46.805000 -90.8806 14.4747 0 0\n"
     ]
    }
   ],
   "source": [
    "!cat ./fuego2009_events.txt"
   ]
  },
  {
   "cell_type": "code",
   "execution_count": 40,
   "id": "0c6d38e9-b6c4-4e5a-86da-cc787527e854",
   "metadata": {
    "collapsed": true,
    "jupyter": {
     "outputs_hidden": true
    },
    "tags": []
   },
   "outputs": [
    {
     "name": "stdout",
     "output_type": "stream",
     "text": [
      "[2023-09-08 11:03:51] - pysep - INFO: looping over 9 events for event file run\n",
      "[2023-09-08 11:03:51] - pysep - INFO: will NOT overwrite event search parameters (including origin and reference time) with config file\n",
      "[2023-09-08 11:03:51] - pysep - INFO: overwriting default parameters with config file: './fuego2009_pysep_config.yaml'\n",
      "[2023-09-08 11:03:51] - pysep - DEBUG: event_tag: None -> Fuego2009\n",
      "[2023-09-08 11:03:51] - pysep - DEBUG: seconds_before_ref: 100 -> 3600\n",
      "[2023-09-08 11:03:51] - pysep - DEBUG: seconds_after_ref: 300 -> 3600\n",
      "[2023-09-08 11:03:51] - pysep - DEBUG: networks: * -> XT\n",
      "[2023-09-08 11:03:51] - pysep - DEBUG: stations: * -> F900,F9NE\n",
      "[2023-09-08 11:03:51] - pysep - DEBUG: channels: * -> HHE,HHN\n",
      "[2023-09-08 11:03:51] - pysep - DEBUG: demean: True -> False\n",
      "[2023-09-08 11:03:51] - pysep - DEBUG: detrend: True -> False\n",
      "[2023-09-08 11:03:51] - pysep - DEBUG: remove_response: True -> False\n",
      "[2023-09-08 11:03:51] - pysep - DEBUG: remove_clipped: False -> True\n",
      "[2023-09-08 11:03:51] - pysep - DEBUG: write_files: all -> inv,sac\n",
      "[2023-09-08 11:03:51] - pysep - DEBUG: plot_files: all -> None\n",
      "[2023-09-08 11:03:51] - pysep - DEBUG: log_level: DEBUG -> WARNING\n",
      "[2023-09-08 11:03:51] - pysep - DEBUG: `log_level` set to WARNING\n",
      "[2023-09-08 11:04:11] - pysep - INFO: will NOT overwrite event search parameters (including origin and reference time) with config file\n",
      "[2023-09-08 11:04:11] - pysep - INFO: overwriting default parameters with config file: './fuego2009_pysep_config.yaml'\n",
      "[2023-09-08 11:04:11] - pysep - DEBUG: event_tag: None -> Fuego2009\n",
      "[2023-09-08 11:04:11] - pysep - DEBUG: seconds_before_ref: 100 -> 3600\n",
      "[2023-09-08 11:04:11] - pysep - DEBUG: seconds_after_ref: 300 -> 3600\n",
      "[2023-09-08 11:04:11] - pysep - DEBUG: networks: * -> XT\n",
      "[2023-09-08 11:04:11] - pysep - DEBUG: stations: * -> F900,F9NE\n",
      "[2023-09-08 11:04:11] - pysep - DEBUG: channels: * -> HHE,HHN\n",
      "[2023-09-08 11:04:11] - pysep - DEBUG: demean: True -> False\n",
      "[2023-09-08 11:04:11] - pysep - DEBUG: detrend: True -> False\n",
      "[2023-09-08 11:04:11] - pysep - DEBUG: remove_response: True -> False\n",
      "[2023-09-08 11:04:11] - pysep - DEBUG: remove_clipped: False -> True\n",
      "[2023-09-08 11:04:11] - pysep - DEBUG: write_files: all -> inv,sac\n",
      "[2023-09-08 11:04:11] - pysep - DEBUG: plot_files: all -> None\n",
      "[2023-09-08 11:04:11] - pysep - DEBUG: log_level: DEBUG -> WARNING\n",
      "[2023-09-08 11:04:11] - pysep - DEBUG: `log_level` set to WARNING\n",
      "[2023-09-08 11:04:30] - pysep - INFO: will NOT overwrite event search parameters (including origin and reference time) with config file\n",
      "[2023-09-08 11:04:30] - pysep - INFO: overwriting default parameters with config file: './fuego2009_pysep_config.yaml'\n",
      "[2023-09-08 11:04:30] - pysep - DEBUG: event_tag: None -> Fuego2009\n",
      "[2023-09-08 11:04:30] - pysep - DEBUG: seconds_before_ref: 100 -> 3600\n",
      "[2023-09-08 11:04:30] - pysep - DEBUG: seconds_after_ref: 300 -> 3600\n",
      "[2023-09-08 11:04:30] - pysep - DEBUG: networks: * -> XT\n",
      "[2023-09-08 11:04:30] - pysep - DEBUG: stations: * -> F900,F9NE\n",
      "[2023-09-08 11:04:30] - pysep - DEBUG: channels: * -> HHE,HHN\n",
      "[2023-09-08 11:04:30] - pysep - DEBUG: demean: True -> False\n",
      "[2023-09-08 11:04:30] - pysep - DEBUG: detrend: True -> False\n",
      "[2023-09-08 11:04:30] - pysep - DEBUG: remove_response: True -> False\n",
      "[2023-09-08 11:04:30] - pysep - DEBUG: remove_clipped: False -> True\n",
      "[2023-09-08 11:04:30] - pysep - DEBUG: write_files: all -> inv,sac\n",
      "[2023-09-08 11:04:30] - pysep - DEBUG: plot_files: all -> None\n",
      "[2023-09-08 11:04:30] - pysep - DEBUG: log_level: DEBUG -> WARNING\n",
      "[2023-09-08 11:04:30] - pysep - DEBUG: `log_level` set to WARNING\n",
      "[2023-09-08 11:04:49] - pysep - INFO: will NOT overwrite event search parameters (including origin and reference time) with config file\n",
      "[2023-09-08 11:04:49] - pysep - INFO: overwriting default parameters with config file: './fuego2009_pysep_config.yaml'\n",
      "[2023-09-08 11:04:49] - pysep - DEBUG: event_tag: None -> Fuego2009\n",
      "[2023-09-08 11:04:49] - pysep - DEBUG: seconds_before_ref: 100 -> 3600\n",
      "[2023-09-08 11:04:49] - pysep - DEBUG: seconds_after_ref: 300 -> 3600\n",
      "[2023-09-08 11:04:49] - pysep - DEBUG: networks: * -> XT\n",
      "[2023-09-08 11:04:49] - pysep - DEBUG: stations: * -> F900,F9NE\n",
      "[2023-09-08 11:04:49] - pysep - DEBUG: channels: * -> HHE,HHN\n",
      "[2023-09-08 11:04:49] - pysep - DEBUG: demean: True -> False\n",
      "[2023-09-08 11:04:49] - pysep - DEBUG: detrend: True -> False\n",
      "[2023-09-08 11:04:49] - pysep - DEBUG: remove_response: True -> False\n",
      "[2023-09-08 11:04:49] - pysep - DEBUG: remove_clipped: False -> True\n",
      "[2023-09-08 11:04:49] - pysep - DEBUG: write_files: all -> inv,sac\n",
      "[2023-09-08 11:04:49] - pysep - DEBUG: plot_files: all -> None\n",
      "[2023-09-08 11:04:49] - pysep - DEBUG: log_level: DEBUG -> WARNING\n",
      "[2023-09-08 11:04:49] - pysep - DEBUG: `log_level` set to WARNING\n",
      "[2023-09-08 11:05:08] - pysep - INFO: will NOT overwrite event search parameters (including origin and reference time) with config file\n",
      "[2023-09-08 11:05:08] - pysep - INFO: overwriting default parameters with config file: './fuego2009_pysep_config.yaml'\n",
      "[2023-09-08 11:05:08] - pysep - DEBUG: event_tag: None -> Fuego2009\n",
      "[2023-09-08 11:05:08] - pysep - DEBUG: seconds_before_ref: 100 -> 3600\n",
      "[2023-09-08 11:05:08] - pysep - DEBUG: seconds_after_ref: 300 -> 3600\n",
      "[2023-09-08 11:05:08] - pysep - DEBUG: networks: * -> XT\n",
      "[2023-09-08 11:05:08] - pysep - DEBUG: stations: * -> F900,F9NE\n",
      "[2023-09-08 11:05:08] - pysep - DEBUG: channels: * -> HHE,HHN\n",
      "[2023-09-08 11:05:08] - pysep - DEBUG: demean: True -> False\n",
      "[2023-09-08 11:05:08] - pysep - DEBUG: detrend: True -> False\n",
      "[2023-09-08 11:05:08] - pysep - DEBUG: remove_response: True -> False\n",
      "[2023-09-08 11:05:08] - pysep - DEBUG: remove_clipped: False -> True\n",
      "[2023-09-08 11:05:08] - pysep - DEBUG: write_files: all -> inv,sac\n",
      "[2023-09-08 11:05:08] - pysep - DEBUG: plot_files: all -> None\n",
      "[2023-09-08 11:05:08] - pysep - DEBUG: log_level: DEBUG -> WARNING\n",
      "[2023-09-08 11:05:08] - pysep - DEBUG: `log_level` set to WARNING\n",
      "[2023-09-08 11:05:27] - pysep - INFO: will NOT overwrite event search parameters (including origin and reference time) with config file\n",
      "[2023-09-08 11:05:27] - pysep - INFO: overwriting default parameters with config file: './fuego2009_pysep_config.yaml'\n",
      "[2023-09-08 11:05:27] - pysep - DEBUG: event_tag: None -> Fuego2009\n",
      "[2023-09-08 11:05:27] - pysep - DEBUG: seconds_before_ref: 100 -> 3600\n",
      "[2023-09-08 11:05:27] - pysep - DEBUG: seconds_after_ref: 300 -> 3600\n",
      "[2023-09-08 11:05:27] - pysep - DEBUG: networks: * -> XT\n",
      "[2023-09-08 11:05:27] - pysep - DEBUG: stations: * -> F900,F9NE\n",
      "[2023-09-08 11:05:27] - pysep - DEBUG: channels: * -> HHE,HHN\n",
      "[2023-09-08 11:05:27] - pysep - DEBUG: demean: True -> False\n",
      "[2023-09-08 11:05:27] - pysep - DEBUG: detrend: True -> False\n",
      "[2023-09-08 11:05:27] - pysep - DEBUG: remove_response: True -> False\n",
      "[2023-09-08 11:05:27] - pysep - DEBUG: remove_clipped: False -> True\n",
      "[2023-09-08 11:05:27] - pysep - DEBUG: write_files: all -> inv,sac\n",
      "[2023-09-08 11:05:27] - pysep - DEBUG: plot_files: all -> None\n",
      "[2023-09-08 11:05:27] - pysep - DEBUG: log_level: DEBUG -> WARNING\n",
      "[2023-09-08 11:05:27] - pysep - DEBUG: `log_level` set to WARNING\n",
      "[2023-09-08 11:05:47] - pysep - INFO: will NOT overwrite event search parameters (including origin and reference time) with config file\n",
      "[2023-09-08 11:05:47] - pysep - INFO: overwriting default parameters with config file: './fuego2009_pysep_config.yaml'\n",
      "[2023-09-08 11:05:47] - pysep - DEBUG: event_tag: None -> Fuego2009\n",
      "[2023-09-08 11:05:47] - pysep - DEBUG: seconds_before_ref: 100 -> 3600\n",
      "[2023-09-08 11:05:47] - pysep - DEBUG: seconds_after_ref: 300 -> 3600\n",
      "[2023-09-08 11:05:47] - pysep - DEBUG: networks: * -> XT\n",
      "[2023-09-08 11:05:47] - pysep - DEBUG: stations: * -> F900,F9NE\n",
      "[2023-09-08 11:05:47] - pysep - DEBUG: channels: * -> HHE,HHN\n",
      "[2023-09-08 11:05:47] - pysep - DEBUG: demean: True -> False\n",
      "[2023-09-08 11:05:47] - pysep - DEBUG: detrend: True -> False\n",
      "[2023-09-08 11:05:47] - pysep - DEBUG: remove_response: True -> False\n",
      "[2023-09-08 11:05:47] - pysep - DEBUG: remove_clipped: False -> True\n",
      "[2023-09-08 11:05:47] - pysep - DEBUG: write_files: all -> inv,sac\n",
      "[2023-09-08 11:05:47] - pysep - DEBUG: plot_files: all -> None\n",
      "[2023-09-08 11:05:47] - pysep - DEBUG: log_level: DEBUG -> WARNING\n",
      "[2023-09-08 11:05:47] - pysep - DEBUG: `log_level` set to WARNING\n",
      "[2023-09-08 11:05:52] - pysep - INFO: will NOT overwrite event search parameters (including origin and reference time) with config file\n",
      "[2023-09-08 11:05:52] - pysep - INFO: overwriting default parameters with config file: './fuego2009_pysep_config.yaml'\n",
      "[2023-09-08 11:05:52] - pysep - DEBUG: event_tag: None -> Fuego2009\n",
      "[2023-09-08 11:05:52] - pysep - DEBUG: seconds_before_ref: 100 -> 3600\n",
      "[2023-09-08 11:05:52] - pysep - DEBUG: seconds_after_ref: 300 -> 3600\n",
      "[2023-09-08 11:05:52] - pysep - DEBUG: networks: * -> XT\n",
      "[2023-09-08 11:05:52] - pysep - DEBUG: stations: * -> F900,F9NE\n",
      "[2023-09-08 11:05:52] - pysep - DEBUG: channels: * -> HHE,HHN\n",
      "[2023-09-08 11:05:52] - pysep - DEBUG: demean: True -> False\n",
      "[2023-09-08 11:05:52] - pysep - DEBUG: detrend: True -> False\n",
      "[2023-09-08 11:05:52] - pysep - DEBUG: remove_response: True -> False\n",
      "[2023-09-08 11:05:52] - pysep - DEBUG: remove_clipped: False -> True\n",
      "[2023-09-08 11:05:52] - pysep - DEBUG: write_files: all -> inv,sac\n",
      "[2023-09-08 11:05:52] - pysep - DEBUG: plot_files: all -> None\n",
      "[2023-09-08 11:05:52] - pysep - DEBUG: log_level: DEBUG -> WARNING\n",
      "[2023-09-08 11:05:52] - pysep - DEBUG: `log_level` set to WARNING\n",
      "[2023-09-08 11:05:56] - pysep - INFO: will NOT overwrite event search parameters (including origin and reference time) with config file\n",
      "[2023-09-08 11:05:56] - pysep - INFO: overwriting default parameters with config file: './fuego2009_pysep_config.yaml'\n",
      "[2023-09-08 11:05:56] - pysep - DEBUG: event_tag: None -> Fuego2009\n",
      "[2023-09-08 11:05:56] - pysep - DEBUG: seconds_before_ref: 100 -> 3600\n",
      "[2023-09-08 11:05:56] - pysep - DEBUG: seconds_after_ref: 300 -> 3600\n",
      "[2023-09-08 11:05:56] - pysep - DEBUG: networks: * -> XT\n",
      "[2023-09-08 11:05:56] - pysep - DEBUG: stations: * -> F900,F9NE\n",
      "[2023-09-08 11:05:56] - pysep - DEBUG: channels: * -> HHE,HHN\n",
      "[2023-09-08 11:05:56] - pysep - DEBUG: demean: True -> False\n",
      "[2023-09-08 11:05:56] - pysep - DEBUG: detrend: True -> False\n",
      "[2023-09-08 11:05:56] - pysep - DEBUG: remove_response: True -> False\n",
      "[2023-09-08 11:05:56] - pysep - DEBUG: remove_clipped: False -> True\n",
      "[2023-09-08 11:05:56] - pysep - DEBUG: write_files: all -> inv,sac\n",
      "[2023-09-08 11:05:56] - pysep - DEBUG: plot_files: all -> None\n",
      "[2023-09-08 11:05:56] - pysep - DEBUG: log_level: DEBUG -> WARNING\n",
      "[2023-09-08 11:05:56] - pysep - DEBUG: `log_level` set to WARNING\n"
     ]
    }
   ],
   "source": [
    "!pysep -c ./fuego2009_pysep_config.yaml -E ./fuego2009_events.txt -o"
   ]
  },
  {
   "cell_type": "markdown",
   "id": "5b833c7a-a567-45f6-9e3f-183cf82ccd55",
   "metadata": {},
   "source": [
    "## Run SeiNei to estimate tilt"
   ]
  },
  {
   "cell_type": "code",
   "execution_count": 54,
   "id": "406f3795-a6a4-43c6-be5d-80085c4fba30",
   "metadata": {
    "collapsed": true,
    "jupyter": {
     "outputs_hidden": true
    },
    "tags": []
   },
   "outputs": [
    {
     "name": "stdout",
     "output_type": "stream",
     "text": [
      "/home/mchristo/miniconda3/envs/py3/lib/python3.10/site-packages/seinei/bin/seinei.py:83: RuntimeWarning: invalid value encountered in divide\n",
      "  dbSplit = 10 * np.log10(np.abs(Ct / Cv))\n",
      "Low-pass period: 64.50s\n",
      "High-pass period: 28800.00s\n",
      "/home/mchristo/miniconda3/envs/py3/lib/python3.10/site-packages/seinei/bin/seinei.py:124: RuntimeWarning: divide by zero encountered in divide\n",
      "  DATA = np.fft.rfft(tr.data)/Ct\n",
      "/home/mchristo/miniconda3/envs/py3/lib/python3.10/site-packages/seinei/bin/seinei.py:124: RuntimeWarning: invalid value encountered in divide\n",
      "  DATA = np.fft.rfft(tr.data)/Ct\n",
      "Low-pass period: 64.50s\n",
      "High-pass period: 28800.00s\n",
      "Low-pass period: 64.50s\n",
      "High-pass period: 28800.00s\n",
      "Low-pass period: 64.50s\n",
      "High-pass period: 28800.00s\n",
      "Low-pass period: 64.50s\n",
      "High-pass period: 28800.00s\n",
      "Low-pass period: 64.50s\n",
      "High-pass period: 28800.00s\n",
      "Low-pass period: 64.50s\n",
      "High-pass period: 28800.00s\n",
      "Low-pass period: 64.50s\n",
      "High-pass period: 28800.00s\n",
      "Low-pass period: 64.50s\n",
      "High-pass period: 28800.00s\n",
      "Low-pass period: 64.50s\n",
      "High-pass period: 28800.00s\n",
      "Low-pass period: 64.50s\n",
      "High-pass period: 28800.00s\n",
      "Low-pass period: 64.50s\n",
      "High-pass period: 28800.00s\n",
      "Low-pass period: 64.50s\n",
      "High-pass period: 28800.00s\n",
      "Low-pass period: 64.50s\n",
      "High-pass period: 28800.00s\n",
      "Low-pass period: 64.50s\n",
      "High-pass period: 28800.00s\n",
      "Low-pass period: 64.50s\n",
      "High-pass period: 28800.00s\n",
      "Low-pass period: 64.50s\n",
      "High-pass period: 28800.00s\n",
      "Low-pass period: 64.50s\n",
      "High-pass period: 28800.00s\n",
      "Low-pass period: 64.50s\n",
      "High-pass period: 28800.00s\n",
      "Low-pass period: 64.50s\n",
      "High-pass period: 28800.00s\n",
      "Low-pass period: 64.50s\n",
      "High-pass period: 28800.00s\n",
      "Low-pass period: 64.50s\n",
      "High-pass period: 28800.00s\n",
      "Low-pass period: 64.50s\n",
      "High-pass period: 28800.00s\n",
      "Low-pass period: 64.50s\n",
      "High-pass period: 28800.00s\n",
      "Low-pass period: 64.50s\n",
      "High-pass period: 28800.00s\n",
      "Low-pass period: 64.50s\n",
      "High-pass period: 28800.00s\n",
      "Low-pass period: 64.50s\n",
      "High-pass period: 28800.00s\n",
      "Low-pass period: 64.50s\n",
      "High-pass period: 28800.00s\n",
      "Low-pass period: 64.50s\n",
      "High-pass period: 28800.00s\n",
      "Low-pass period: 64.50s\n",
      "High-pass period: 28800.00s\n",
      "Low-pass period: 64.50s\n",
      "High-pass period: 28800.00s\n",
      "Low-pass period: 64.50s\n",
      "High-pass period: 28800.00s\n"
     ]
    }
   ],
   "source": [
    "!seinei ./2009-01-11T224051_GUATEMALA/inv.xml ./2009*GUATEMALA/SAC/2009*.sac -hpp 28800"
   ]
  },
  {
   "cell_type": "markdown",
   "id": "d19e9a1b-3a11-40e9-8c0c-f376f892b40e",
   "metadata": {},
   "source": [
    "## Make plots"
   ]
  },
  {
   "cell_type": "code",
   "execution_count": 45,
   "id": "4bb6909e-693e-40f0-ab91-cfd8cf2cb3c0",
   "metadata": {},
   "outputs": [],
   "source": [
    "import obspy\n",
    "import matplotlib.pyplot as plt\n",
    "import numpy as np\n",
    "import glob"
   ]
  },
  {
   "cell_type": "code",
   "execution_count": 59,
   "id": "c394f445-210d-4d62-aacc-a5fc0592db97",
   "metadata": {},
   "outputs": [
    {
     "data": {
      "image/png": "[encoded data removed]",
      "text/plain": [
       "<Figure size 640x480 with 2 Axes>"
      ]
     },
     "metadata": {},
     "output_type": "display_data"
    }
   ],
   "source": [
    "# Load tilt estimates\n",
    "stTilt = obspy.core.stream.Stream()\n",
    "for file in glob.glob(\"./2009*GUATEMALA/SAC/tilt*.sac\"):\n",
    "    stTilt += obspy.read(file)\n",
    "\n",
    "stations = [\"F900\", \"F9NE\"]\n",
    "channels = [\"HHE\", \"HHN\"]\n",
    "style = [\"r--\", \"k--\"]\n",
    "\n",
    "fig, axs = plt.subplots(2, 1)\n",
    "for i, sta in enumerate(stations):\n",
    "    for j, ch in enumerate(channels):\n",
    "        tilts = stTilt.select(station=sta, channel=ch)\n",
    "        stack = np.zeros(len(tilts[0]))\n",
    "        for tilt in tilts:\n",
    "            stack += tilt.data\n",
    "        stack /= len(tilts)\n",
    "        axs[i].plot(np.arange(len(stack)) - len(stack)//2, stack*1e9, style[j], label=ch)\n",
    "        axs[i].set_title(sta)\n",
    "        axs[i].set_xlim(-len(stack)//2, len(stack)//2)\n",
    "        axs[i].legend()\n",
    "\n",
    "fig.supylabel(\"Tilt (nRad)\")\n",
    "fig.supxlabel(\"Time to event (s)\")\n",
    "fig.suptitle(\"Stacked Tilt Records From %d Events\" % len(stTilt.select(station=sta, channel=ch)))\n",
    "fig.tight_layout()"
   ]
  }
 ],
 "metadata": {
  "kernelspec": {
   "display_name": "Python 3 (ipykernel)",
   "language": "python",
   "name": "python3"
  },
  "language_info": {
   "codemirror_mode": {
    "name": "ipython",
    "version": 3
   },
   "file_extension": ".py",
   "mimetype": "text/x-python",
   "name": "python",
   "nbconvert_exporter": "python",
   "pygments_lexer": "ipython3",
   "version": "3.10.9"
  }
 },
 "nbformat": 4,
 "nbformat_minor": 5
}
